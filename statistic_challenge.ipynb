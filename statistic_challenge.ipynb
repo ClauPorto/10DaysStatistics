{
  "nbformat": 4,
  "nbformat_minor": 0,
  "metadata": {
    "colab": {
      "name": "statistic_challenge.ipynb",
      "provenance": [],
      "collapsed_sections": [],
      "authorship_tag": "ABX9TyNvgdHpWyjAUPqYvkdZ8EEL",
      "include_colab_link": true
    },
    "kernelspec": {
      "name": "python3",
      "display_name": "Python 3"
    }
  },
  "cells": [
    {
      "cell_type": "markdown",
      "metadata": {
        "id": "view-in-github",
        "colab_type": "text"
      },
      "source": [
        "<a href=\"https://colab.research.google.com/github/ClauPorto/10DaysStatistics/blob/main/statistic_challenge.ipynb\" target=\"_parent\"><img src=\"https://colab.research.google.com/assets/colab-badge.svg\" alt=\"Open In Colab\"/></a>"
      ]
    },
    {
      "cell_type": "code",
      "metadata": {
        "colab": {
          "base_uri": "https://localhost:8080/"
        },
        "id": "YXHlTJ3WwfDy",
        "outputId": "96fea0ee-6b90-491c-c3dd-8b66ed1ac356"
      },
      "source": [
        "#Challenge 1\n",
        " \n",
        "from collections import Counter\n",
        "input_count = input()\n",
        "input_numbers = input()\n",
        " \n",
        "input_count = float(input_count)\n",
        "input_numbers = input_numbers.split(\" \")\n",
        " \n",
        "input_numbers = [float(x) for x in input_numbers]\n",
        " \n",
        "mean = sum(input_numbers)/input_count\n",
        "median = 0\n",
        "input_numbers = sorted(input_numbers)\n",
        "if input_count % 2 == 0:\n",
        "    index_0 = int((input_count/2) - 1)\n",
        "    index_1 = int(input_count/2)\n",
        "    print(index_0)\n",
        "    print(index_1)\n",
        "    median = (input_numbers[index_0] + input_numbers[index_1])/2\n",
        "else:\n",
        "    index = int(input_count/2)\n",
        "    median = input_numbers[index]\n",
        " \n",
        "counter_values = Counter(input_numbers)\n",
        " \n",
        "moda = int(counter_values.most_common(1)[0][0])\n",
        " \n",
        "print(mean)\n",
        "print(median)\n",
        "print(moda)"
      ],
      "execution_count": null,
      "outputs": [
        {
          "output_type": "stream",
          "text": [
            "4\n",
            "10 45 67 34\n",
            "1\n",
            "2\n",
            "39.0\n",
            "39.5\n",
            "10\n"
          ],
          "name": "stdout"
        }
      ]
    },
    {
      "cell_type": "code",
      "metadata": {
        "colab": {
          "base_uri": "https://localhost:8080/"
        },
        "id": "QwgBQWRQ0CMa",
        "outputId": "e839019f-017c-42de-aff7-9d593480ffc8"
      },
      "source": [
        "#Challenge 2\r\n",
        "\r\n",
        "input_count = input()\r\n",
        "input_numbers = input()\r\n",
        "input_weights = input()\r\n",
        "\r\n",
        "input_count = int(input_count)\r\n",
        "input_numbers = input_numbers.split(\" \")\r\n",
        "input_weights = input_weights.split(\" \")\r\n",
        "\r\n",
        "input_numbers = [float(x) for x in input_numbers]\r\n",
        "input_weights = [float(x) for x in input_weights]\r\n",
        "\r\n",
        "weighted_mean = sum([input_numbers[i]*input_weights[i] for i in range(input_count)])\r\n",
        "weighted_mean = weighted_mean/sum(input_weights)\r\n",
        "\r\n",
        "print(\"{:.1f}\".format(weighted_mean))\r\n"
      ],
      "execution_count": null,
      "outputs": [
        {
          "output_type": "stream",
          "text": [
            "5\n",
            "10 40 30 50 20\n",
            "1 2 3 4 5\n",
            "32.0\n"
          ],
          "name": "stdout"
        }
      ]
    },
    {
      "cell_type": "code",
      "metadata": {
        "id": "zfJX9eADVvhr"
      },
      "source": [
        "#Challenge3 Quartiles\r\n",
        "def median(input_numbers, input_count):\r\n",
        "  if input_count % 2 == 0:\r\n",
        "    index_0 = int((input_count/2) - 1)\r\n",
        "    index_1 = int(input_count/2)\r\n",
        "    median = (input_numbers[index_0] + input_numbers[index_1])/2\r\n",
        "  else:\r\n",
        "    index = int(input_count/2)\r\n",
        "    median = input_numbers[index]\r\n",
        "  return int(median)\r\n",
        "\r\n",
        "def quartile(input_numbers, input_count):\r\n",
        "  input_numbers = sorted(input_numbers)\r\n",
        "  m = median(input_numbers, input_count)\r\n",
        "  L = []\r\n",
        "  U = []\r\n",
        "\r\n",
        "  if input_count % 2 == 0:\r\n",
        "    index = int((input_count/2) - 1)\r\n",
        "    L = input_numbers[:index+1]\r\n",
        "    U = input_numbers[index+1:]\r\n",
        "  else:\r\n",
        "    index = input_numbers.index(m)\r\n",
        "    L = input_numbers[:index]\r\n",
        "    U = input_numbers[index+1:]\r\n",
        "  Q1 = median(L, len(L))\r\n",
        "  Q3 = median(U, len(U))\r\n",
        "  return Q1, m, Q3\r\n",
        "\r\n",
        "input_count = input()\r\n",
        "input_count = int(input_count)\r\n",
        "input_numbers = input()\r\n",
        "input_numbers = input_numbers.split(\" \")\r\n",
        "input_numbers = [int(x) for x in input_numbers]\r\n",
        "\r\n",
        "\r\n",
        "input_numbers = sorted(input_numbers)\r\n",
        "Q1,m, Q3 = quartile(input_numbers, input_count)\r\n",
        "\r\n",
        "print(Q1)\r\n",
        "print(m)\r\n",
        "print(Q3)\r\n"
      ],
      "execution_count": null,
      "outputs": []
    },
    {
      "cell_type": "code",
      "metadata": {
        "id": "tPJy1zX-V0r6"
      },
      "source": [
        "# Enter your code here. Read input from STDIN. Print output to STDOUT\r\n",
        "#Challenge Range InterQuartil\r\n",
        "\r\n",
        "input_count = input()\r\n",
        "input_count = int(input_count)\r\n",
        "input_numbers = input()\r\n",
        "input_numbers = input_numbers.split(\" \")\r\n",
        "input_numbers = [int(x) for x in input_numbers]\r\n",
        "\r\n",
        "input_freq = input()\r\n",
        "input_freq = input_freq.split(\" \")\r\n",
        "input_freq = [int(x) for x in input_freq]\r\n",
        "\r\n",
        "S = []\r\n",
        "for i in range(input_count):\r\n",
        "  S.extend([input_numbers[i] for j in range(input_freq[i])])\r\n",
        "Q1, m, Q3 = quartile(S, len(S))\r\n",
        "print(float(Q3-Q1))\r\n"
      ],
      "execution_count": null,
      "outputs": []
    },
    {
      "cell_type": "code",
      "metadata": {
        "id": "ngLgH4K1WdTi"
      },
      "source": [
        "#Challenge Standard Deviation\r\n",
        "\r\n",
        "input_count = input()\r\n",
        "input_count = int(input_count)\r\n",
        "input_numbers = input()\r\n",
        "input_numbers = input_numbers.split(\" \")\r\n",
        "input_numbers = [int(x) for x in input_numbers]\r\n",
        "\r\n",
        "from math import sqrt\r\n",
        "miu = sum(input_numbers)/input_count\r\n",
        "sigma = sum([(x-miu)**2 for x in input_numbers])\r\n",
        "sigma = sqrt(sigma/input_count)\r\n",
        "print(\"{:.1f}\".format(sigma))\r\n"
      ],
      "execution_count": null,
      "outputs": []
    },
    {
      "cell_type": "code",
      "metadata": {
        "id": "QoIEGJ0KWwLk"
      },
      "source": [
        ""
      ],
      "execution_count": null,
      "outputs": []
    }
  ]
}